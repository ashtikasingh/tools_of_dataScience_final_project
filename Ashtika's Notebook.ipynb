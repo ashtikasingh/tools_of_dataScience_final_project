{
 "cells": [
  {
   "cell_type": "markdown",
   "id": "0613b3b9",
   "metadata": {},
   "source": [
    "# Ashtika's Notebook"
   ]
  },
  {
   "cell_type": "markdown",
   "id": "c1bfc403",
   "metadata": {},
   "source": [
    "My name is Ashtika Singh and I am a Computer Science Engineering student."
   ]
  },
  {
   "cell_type": "code",
   "execution_count": 1,
   "id": "faec472c",
   "metadata": {},
   "outputs": [
    {
     "data": {
      "text/plain": [
       "['Python', 'SQL', 'R', 'Scala', 'C++', 'Julia', 'Ruby']"
      ]
     },
     "execution_count": 1,
     "metadata": {},
     "output_type": "execute_result"
    }
   ],
   "source": [
    "ds_languages=['Python', 'SQL', 'R', 'Scala', 'C++', 'Julia', 'Ruby']\n",
    "ds_languages"
   ]
  },
  {
   "cell_type": "code",
   "execution_count": 2,
   "id": "20c0bba2",
   "metadata": {},
   "outputs": [
    {
     "data": {
      "text/plain": [
       "['Numpy', 'Pandas', 'Matplotlib', 'Seaborn', 'Scikit-Learn', 'Tensorflow']"
      ]
     },
     "execution_count": 2,
     "metadata": {},
     "output_type": "execute_result"
    }
   ],
   "source": [
    "ds_libraries=['Numpy', 'Pandas', 'Matplotlib', 'Seaborn', 'Scikit-Learn', 'Tensorflow']\n",
    "ds_libraries"
   ]
  },
  {
   "cell_type": "code",
   "execution_count": 10,
   "id": "30d2a99b",
   "metadata": {},
   "outputs": [
    {
     "data": {
      "text/html": [
       "<div>\n",
       "<style scoped>\n",
       "    .dataframe tbody tr th:only-of-type {\n",
       "        vertical-align: middle;\n",
       "    }\n",
       "\n",
       "    .dataframe tbody tr th {\n",
       "        vertical-align: top;\n",
       "    }\n",
       "\n",
       "    .dataframe thead th {\n",
       "        text-align: right;\n",
       "    }\n",
       "</style>\n",
       "<table border=\"1\" class=\"dataframe\">\n",
       "  <thead>\n",
       "    <tr style=\"text-align: right;\">\n",
       "      <th></th>\n",
       "      <th>Tools</th>\n",
       "    </tr>\n",
       "  </thead>\n",
       "  <tbody>\n",
       "    <tr>\n",
       "      <th>0</th>\n",
       "      <td>Apache Spark</td>\n",
       "    </tr>\n",
       "    <tr>\n",
       "      <th>1</th>\n",
       "      <td>Weka</td>\n",
       "    </tr>\n",
       "    <tr>\n",
       "      <th>2</th>\n",
       "      <td>Hadoop</td>\n",
       "    </tr>\n",
       "    <tr>\n",
       "      <th>3</th>\n",
       "      <td>RapidMiner</td>\n",
       "    </tr>\n",
       "    <tr>\n",
       "      <th>4</th>\n",
       "      <td>Tableau</td>\n",
       "    </tr>\n",
       "    <tr>\n",
       "      <th>5</th>\n",
       "      <td>Power BI</td>\n",
       "    </tr>\n",
       "  </tbody>\n",
       "</table>\n",
       "</div>"
      ],
      "text/plain": [
       "          Tools\n",
       "0  Apache Spark\n",
       "1          Weka\n",
       "2        Hadoop\n",
       "3    RapidMiner\n",
       "4       Tableau\n",
       "5      Power BI"
      ]
     },
     "execution_count": 10,
     "metadata": {},
     "output_type": "execute_result"
    }
   ],
   "source": [
    "import pandas as pd\n",
    "ds_tools=['Apache Spark', 'Weka', 'Hadoop', 'RapidMiner', 'Tableau', 'Power BI']\n",
    "table=pd.DataFrame(ds_tools)\n",
    "table.columns=['Tools']\n",
    "table"
   ]
  },
  {
   "cell_type": "code",
   "execution_count": 15,
   "id": "b11fda2a",
   "metadata": {},
   "outputs": [
    {
     "name": "stdout",
     "output_type": "stream",
     "text": [
      "2\n"
     ]
    }
   ],
   "source": [
    "print(5+3-6)"
   ]
  },
  {
   "cell_type": "code",
   "execution_count": 13,
   "id": "e1608566",
   "metadata": {},
   "outputs": [
    {
     "name": "stdout",
     "output_type": "stream",
     "text": [
      "10\n",
      "24\n"
     ]
    }
   ],
   "source": [
    "a=6\n",
    "b=4\n",
    "print(a+b)\n",
    "print(a*b)"
   ]
  },
  {
   "cell_type": "code",
   "execution_count": 14,
   "id": "a88165ed",
   "metadata": {},
   "outputs": [
    {
     "name": "stdout",
     "output_type": "stream",
     "text": [
      "Enter time in minutes120\n",
      "Hours= 2\n",
      "Minutes= 0\n"
     ]
    }
   ],
   "source": [
    "min=int(input(\"Enter time in minutes\"))\n",
    "h=min//60\n",
    "m=min%60\n",
    "print(\"Hours=\",h)\n",
    "print(\"Minutes=\",m)"
   ]
  },
  {
   "cell_type": "markdown",
   "id": "a9cc7907",
   "metadata": {},
   "source": [
    "I want to do data science because I like to explore new things\n",
    "\n",
    "I enjoyed know about these tools"
   ]
  },
  {
   "cell_type": "markdown",
   "id": "a102208b",
   "metadata": {},
   "source": [
    "Author Name: Ashtika Singh"
   ]
  },
  {
   "cell_type": "code",
   "execution_count": null,
   "id": "eaf49e40",
   "metadata": {},
   "outputs": [],
   "source": []
  }
 ],
 "metadata": {
  "kernelspec": {
   "display_name": "Python 3 (ipykernel)",
   "language": "python",
   "name": "python3"
  },
  "language_info": {
   "codemirror_mode": {
    "name": "ipython",
    "version": 3
   },
   "file_extension": ".py",
   "mimetype": "text/x-python",
   "name": "python",
   "nbconvert_exporter": "python",
   "pygments_lexer": "ipython3",
   "version": "3.11.3"
  }
 },
 "nbformat": 4,
 "nbformat_minor": 5
}
